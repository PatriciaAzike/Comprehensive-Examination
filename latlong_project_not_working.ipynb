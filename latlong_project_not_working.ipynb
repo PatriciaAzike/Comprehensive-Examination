{
 "cells": [
  {
   "cell_type": "code",
   "execution_count": 1,
   "id": "cfc7dad3",
   "metadata": {},
   "outputs": [],
   "source": [
    "%matplotlib notebook\n",
    "\n",
    "from numpy import *\n",
    "import numpy.linalg \n",
    "from numpy.random import rand\n",
    "from matplotlib.pyplot import *\n"
   ]
  },
  {
   "cell_type": "code",
   "execution_count": 2,
   "id": "bb332a8c",
   "metadata": {},
   "outputs": [],
   "source": [
    "import subprocess\n",
    "import shlex\n",
    "import os"
   ]
  },
  {
   "cell_type": "markdown",
   "id": "54d42e18",
   "metadata": {},
   "source": [
    "<hr style=\"border-width:4px; border-color:coral\"></hr>\n",
    "\n",
    "## Run Smoke3d\n",
    "\n",
    "<hr style=\"border-width:4px; border-color:coral\"></hr>\n",
    "\n",
    "This notebook has two parts. \n",
    "\n",
    "* **Part 1:** Here, we create artificial data to simulate \"observations\" at gauges at a final output time $T$. These gauges are described to be observation stations where PM 2.5 concentrations are collected. In selecting these gauges, we used the United States Environmental Protection Agency Air Quality Data of 2020, to choose some cities in California that recorded high PM 2.5 trends. The final output time... \n",
    "\n",
    "\n",
    "* **Part 2:** Estimate the value of $S$ by solving a least squares problem.  This will be a linear or nonlinear  problem depending on the source model being solved, that is, a constant step function or Gaussian model, with dimension equal to the the number of gauges.  The function to be optimized involves a call to ForestClaw. \n",
    "\n",
    "As a first step, we test that we can run ForestClaw from this notebook."
   ]
  },
  {
   "cell_type": "markdown",
   "id": "6fc064da",
   "metadata": {},
   "source": [
    "### Problem setup\n",
    "\n",
    "This code assumes that we will only observe solution at final time. "
   ]
  },
  {
   "cell_type": "code",
   "execution_count": 3,
   "id": "028047dc",
   "metadata": {},
   "outputs": [
    {
     "name": "stdout",
     "output_type": "stream",
     "text": [
      "/Users/patriciaazike_1/projects/Smoke3d/code/Smoke3d/examples/latlong\r\n"
     ]
    }
   ],
   "source": [
    "# This is the command that will get called from the command line\n",
    "## source_model = 1: constant function\n",
    "## source_model = 2: gaussian function\n",
    "\n",
    "source_model = 2  \n",
    "\n",
    "S_true = 20\n",
    "alpha_true = 0.0001\n",
    "\n",
    "# Number of parameters to estimate\n",
    "nparms = 2\n",
    "\n",
    "shell_cmd = './latlong --user:source-model={:d} --user:S0={:.2f} --user:alpha={:.4e}'.format\n",
    "\n",
    "!pwd"
   ]
  },
  {
   "cell_type": "markdown",
   "id": "39186827",
   "metadata": {},
   "source": [
    "## Test ForestClaw\n",
    "\n",
    "<hr style=\"border-width:4px; border-color:coral\"></hr>\n",
    "\n",
    "Here we test ForestClaw on a small problem to ensure that the whole setup works. "
   ]
  },
  {
   "cell_type": "code",
   "execution_count": 4,
   "id": "67d39bc6",
   "metadata": {},
   "outputs": [
    {
     "name": "stdout",
     "output_type": "stream",
     "text": [
      "latlong : Something bad happened!\n",
      "None\n"
     ]
    },
    {
     "data": {
      "text/plain": [
       "CompletedProcess(args=['./latlong', '--outstyle=3', '--nout=10', '--nstep=10'], returncode=143)"
      ]
     },
     "execution_count": 4,
     "metadata": {},
     "output_type": "execute_result"
    }
   ],
   "source": [
    "# mpirun command\n",
    "\n",
    "cmd_test = './latlong --outstyle=3 --nout=10 --nstep=10'\n",
    "\n",
    "#cmd_test = 'pwd'\n",
    "arg_list = shlex.split(cmd_test) \n",
    "output = subprocess.run(arg_list)\n",
    "\n",
    "if output.returncode != 0:\n",
    "    print(\"latlong : Something bad happened!\")\n",
    "    print(output.stderr)\n",
    "        \n",
    "output"
   ]
  },
  {
   "cell_type": "markdown",
   "id": "5c986e3a",
   "metadata": {},
   "source": [
    "## Create Gauge file\n",
    "\n",
    "<hr style=\"border-width:4px; border-color:coral\"></hr>\n",
    "\n",
    "Now, we create 9 guage files corresponding to data for 9 cities in California."
   ]
  },
  {
   "cell_type": "code",
   "execution_count": null,
   "id": "3d3c11a9",
   "metadata": {},
   "outputs": [],
   "source": [
    "m_gauges = 9\n",
    "\n",
    "# Define gauges here in long/lat coordinates\n",
    "#p_long = array([-120.5, -120, -119.5],dtype='float')\n",
    "#p_lat = array([37]*m_gauges,dtype='float')\n",
    "\n",
    "p_long = array([-119.0187, -119.8947, -120.625, -120.156, -119.375, -120.156, -119.667, -119.375, -120.1088],dtype='float')\n",
    "p_lat = array([35.3210, 36.1389, 35.125, 34.5, 35.5938, 35.4375, 34.9429, 35.2812, 34.9681],dtype='float')\n",
    "\n",
    "\n",
    "f = open('gauges.data','w')\n",
    "f.write(\"{:d}\\n\".format(m_gauges))\n",
    "t0 = 0\n",
    "t1 = 1e10\n",
    "for i in range(m_gauges):\n",
    "    id = i\n",
    "    f.write(\"{:5d} {:12.2f} {:12.2f} {:12.2e} {:12.2e}\\n\".format(id,p_long[i],p_lat[i],t0,t1))\n",
    "f.close()"
   ]
  },
  {
   "cell_type": "code",
   "execution_count": null,
   "id": "53d164b5",
   "metadata": {},
   "outputs": [],
   "source": [
    "# p_long = array([-119.0187, -119.8947, -120.625, -120.156, -119.375, -120.156, -119.667, -119.375, -120.1088],dtype='float')\n",
    "# p_lat = array([35.3210, 36.1389, 35.125, 34.5, 35.5938, 35.4375, 34.9429, 35.2812, 34.9681],dtype='float')\n"
   ]
  },
  {
   "cell_type": "code",
   "execution_count": null,
   "id": "f487d84c",
   "metadata": {},
   "outputs": [],
   "source": [
    "%%bash\n",
    "\n",
    "cat gauges.data"
   ]
  },
  {
   "cell_type": "markdown",
   "id": "84da3a88",
   "metadata": {},
   "source": [
    "## Create Data\n",
    "\n",
    "<hr style=\"border-width:4px; border-color:coral\"></hr>\n",
    "\n",
    "Here we create some data.   This will read the gauge files created above and create output files `gauge00001.txt`, \n",
    "`gauge00002.txt`, ...."
   ]
  },
  {
   "cell_type": "code",
   "execution_count": null,
   "id": "16433f9b",
   "metadata": {},
   "outputs": [],
   "source": [
    "from os.path import exists\n",
    "\n",
    "# Read gauge files and collect data\n",
    "\n",
    "def read_gauge_data():\n",
    "    gauge_file = \"gauge{:05d}.txt\".format\n",
    "    qvar_data = empty((m_gauges,1))\n",
    "\n",
    "    errout = 0\n",
    "    for i in range(m_gauges):\n",
    "        gfile = gauge_file(i)\n",
    "        if not exists(gfile):\n",
    "            errout = 1\n",
    "            return qvar_data,errout\n",
    "        \n",
    "        data = loadtxt(gfile)\n",
    "        qvar_data[i] = data[-1,2]\n",
    "\n",
    "    return qvar_data,errout"
   ]
  },
  {
   "cell_type": "markdown",
   "id": "9465952d",
   "metadata": {},
   "source": [
    "Here, we performed one run of the code with a $S_{true}$ value.  Then perturb the data to get our observations. We used a standard deviation of 0.15 to perturb the results we got from ForestClaw. "
   ]
  },
  {
   "cell_type": "markdown",
   "id": "907b2543",
   "metadata": {},
   "source": [
    "## ForestClaw wrapper\n",
    "<hr style=\"border-width:4px; border-color:coral\"></hr> \n",
    "\n",
    "We can wrap ForestClaw in a Python function.   \n",
    "\n",
    "* Reads data from `fclaw_options.ini`, spatial and temporal resolution\n",
    "\n",
    "* A ForestClaw run will read data from a gauge file (created below) and report on values at gauges at regular time intervals, specified in ForetClaw options file `fclaw_options.ini'\n",
    "\n",
    "* This wrapper takes two input parameters $S$ and $\\alpha$ that control the source term.  The source term model is also used, but is set as a global variable above. \n",
    "\n",
    "* The output are gauge files, that are read in routines below.  The function $G(S,\\alpha)$ will call this function and return the value of $q(x,t)$ at the final time, at each of the gauges.  \n"
   ]
  },
  {
   "cell_type": "code",
   "execution_count": null,
   "id": "d321daec",
   "metadata": {},
   "outputs": [],
   "source": [
    "# This calls ForestClaw\n",
    "\n",
    "cmd = shell_cmd(source_model,S_true,alpha_true)   # Creates a command line call for any value of S\n",
    "\n",
    "arg_list = shlex.split(cmd) \n",
    "output = subprocess.run(arg_list, stdout=subprocess.DEVNULL)\n",
    "\n",
    "# Read gauges files that were created to get \"observations\"\n",
    "qdata,errout = read_gauge_data()\n",
    "if errout != 0:\n",
    "    print(\"Problem reading gauge files {:s}\".format(gfile))\n",
    "    exit(0)\n",
    "\n",
    "    \n",
    "# TODO : Add a random perturbation to qvar_data vector entries\n",
    "\n",
    "qvar_observations = qdata + 0.05 *rand(9,1)\n",
    "\n",
    "print(\"Success!\")\n",
    "print(\"qvar_observations\")\n",
    "print(\"\")\n",
    "print(qvar_observations)\n"
   ]
  },
  {
   "cell_type": "markdown",
   "id": "ffdb0798",
   "metadata": {},
   "source": [
    "## Estimate $S_0$ from data\n",
    "\n",
    "<hr style=\"border-width:4px; border-color:coral\"></hr>\n",
    "\n",
    "Think about linear least squares  to fit data to a polynomial : \n",
    "\n",
    "\\begin{equation}\n",
    "f(x)  = ax^2 + bx + c\n",
    "\\end{equation}\n",
    "\n",
    "We set up a matrix equation for unknowns $(a,b,c)$, which we can store in a vector $\\mathbf p = [a,b,c]^T$. \n",
    "\n",
    "The linear least squares problem is then to find\n",
    "\n",
    "\\begin{equation}\n",
    "\\overline{\\mathbf p} = \\mbox{argmin} \\Vert V \\mathbf p - \\mathbf b \\Vert^2\n",
    "\\end{equation}\n",
    "\n",
    "where $V$ is a Vandermonde matrix and entries of $\\mathbf b$ are values $y_j = f(x_j)$, $j = 1,2,\\dots m$. \n",
    "\n",
    "More generally, we can solve \n",
    "\n",
    "\\begin{equation}\n",
    "\\overline{S} = \\mbox{argmin} \\Vert \\mathbf G(S)  - \\mathbf d \\Vert^2\n",
    "\\end{equation}\n",
    "\n",
    "where $\\mathbf G(S)$ represents the vector of values from $m$ gauges for parameter choice $S$. \n"
   ]
  },
  {
   "cell_type": "code",
   "execution_count": null,
   "id": "326f2105",
   "metadata": {},
   "outputs": [],
   "source": [
    "# Some problem dependent parameters\n",
    "\n",
    "# Function to being minimized. \n",
    "def F(p):    \n",
    "    \n",
    "    # If optimizing for S and alpha, p = [S,alpha]\n",
    "    sval = p[0]\n",
    "    aval = p[1]\n",
    "    \n",
    "    # print(\"sval = \",sval)\n",
    "    cmd = shell_cmd(source_model,sval,aval)   # Creates a command line call for any value of S\n",
    "\n",
    "    arg_list = shlex.split(cmd) \n",
    "    output = subprocess.run(arg_list, stdout=subprocess.DEVNULL)\n",
    "    GS,errout = read_gauge_data()\n",
    "    if errout !=0:\n",
    "        print(\"Problem reading gauge files\\n\")\n",
    "        exit(0)\n",
    "    Fval = GS - qvar_observations\n",
    "    Fval.resize(m_gauges)\n",
    "    \n",
    "    return Fval"
   ]
  },
  {
   "cell_type": "markdown",
   "id": "51b78dce",
   "metadata": {},
   "source": [
    "### Compute Jacobian"
   ]
  },
  {
   "cell_type": "code",
   "execution_count": null,
   "id": "d67d9c06",
   "metadata": {},
   "outputs": [],
   "source": [
    "\n",
    "p = array([S_true,alpha_true])\n",
    "hS = 1\n",
    "halpha = 5e-5\n",
    "h1v = array([hS,0],dtype='float')\n",
    "h2v = array([0,halpha])\n",
    "\n",
    "gs1 = F(p + h1v)\n",
    "gs2 = F(p - h1v)\n",
    "Jval_col1 = (gs1 - gs2)/(2*hS)\n",
    "Jval_col1.resize((m_gauges,1))\n",
    "\n",
    "# TODO : For source model 2, you have to include a second column for (F(alpha+h)- F(alpha-h))/(2*h)\n",
    "if source_model == 2:\n",
    "    gs1 = F(p + h2v)\n",
    "    gs2 = F(p - h2v)\n",
    "    Jval_col2 = (gs1 - gs2)/(2*halpha)\n",
    "    Jval_col2.resize((m_gauges,1))\n",
    "else:\n",
    "    Jval_col2 = zeros((m_gauges,1))\n",
    "\n",
    "Jval = hstack((Jval_col1, Jval_col2))\n",
    "\n",
    "def jac(S):\n",
    "    return Jval"
   ]
  },
  {
   "cell_type": "code",
   "execution_count": null,
   "id": "5fb81de3",
   "metadata": {},
   "outputs": [],
   "source": [
    "from scipy.optimize import least_squares\n",
    "\n",
    "x0 = array([15,2.7e-4])\n",
    "S_soln = least_squares(F,x0,jac=jac,method='lm',gtol=1e-12)\n",
    "display(S_soln)\n",
    "xsoln = S_soln.x\n",
    "print(\"Solution is \",  S_soln.x)"
   ]
  },
  {
   "cell_type": "markdown",
   "id": "3822b97b",
   "metadata": {},
   "source": [
    "## Rerun ForestClaw with estimated parameters and create output files\n",
    "\n",
    "<hr style=\"border-width:4px; border-color:coral\"></hr>\n",
    "\n",
    "We now run ForestClaw one more time with estimated parameters.  This will create output files fort.q*"
   ]
  },
  {
   "cell_type": "code",
   "execution_count": null,
   "id": "e85eb9b3",
   "metadata": {},
   "outputs": [],
   "source": [
    "# Create output files fort.*\n",
    "\n",
    "resid = F(xsoln)\n",
    "print(\"residual = \\n\",resid)"
   ]
  },
  {
   "cell_type": "code",
   "execution_count": null,
   "id": "d7cc011f",
   "metadata": {},
   "outputs": [],
   "source": [
    "cmd = shell_cmd(source_model,xsoln[0],xsoln[1])   # Creates a command line call for any value of S\n",
    "\n",
    "arg_list = shlex.split(cmd) \n",
    "output = subprocess.run(arg_list, stdout=subprocess.DEVNULL)\n",
    "\n",
    "# Read gauges files that were created to get \"observations\"\n",
    "qest,errout = read_gauge_data()\n",
    "if errout != 0:\n",
    "    print(\"Problem reading gauge files {:s}\".format(gfile))\n",
    "    exit(0)\n",
    "\n",
    "    \n",
    "# TODO : Add a random perturbation to qvar_data vector entries\n",
    "\n",
    "q_estimates = qest\n",
    "\n",
    "print(\"Success!\")\n",
    "print(\"q_estimates = \")\n",
    "print(\"\")\n",
    "print(q_estimates)"
   ]
  },
  {
   "cell_type": "code",
   "execution_count": null,
   "id": "78e2b2bf",
   "metadata": {},
   "outputs": [],
   "source": [
    "figure(1)\n",
    "clf\n",
    "x = arange(1,10)\n",
    "plot(x, qvar_observations, 'r*', label='obs')\n",
    "plot(x, q_estimates, 'b*', label='est')\n",
    "legend()\n",
    "xlabel(\"Gauge\")\n",
    "ylabel(\"q($\\mu gm^{-3}$)\")\n",
    "title(\"PM 2.5 Concentration\")\n",
    "show()"
   ]
  },
  {
   "cell_type": "code",
   "execution_count": null,
   "id": "e3c2a290",
   "metadata": {},
   "outputs": [],
   "source": [
    "figure(2)\n",
    "clf\n",
    "plot(x, resid, 'r*')\n",
    "xlabel(\"Gauge\")\n",
    "ylabel(\"Residual\")\n",
    "title(\"Residuals\")\n",
    "show()"
   ]
  },
  {
   "cell_type": "code",
   "execution_count": null,
   "id": "fac22303",
   "metadata": {},
   "outputs": [],
   "source": [
    "chi_sq = linalg.norm(resid,2)\n",
    "print(\"chi_sq = \", chi_sq)"
   ]
  },
  {
   "cell_type": "code",
   "execution_count": null,
   "id": "dd17c79f",
   "metadata": {},
   "outputs": [],
   "source": [
    "from scipy.stats import chisquare\n",
    "chisquare(q_estimates)"
   ]
  },
  {
   "cell_type": "code",
   "execution_count": null,
   "id": "593d385e",
   "metadata": {},
   "outputs": [],
   "source": [
    "# from scipy import stats\n",
    "\n",
    "# rvs1 = stats.norm.rvs(loc=5, scale=10, size=500, random_state=q_estimates)\n"
   ]
  },
  {
   "cell_type": "code",
   "execution_count": null,
   "id": "52c79759",
   "metadata": {},
   "outputs": [],
   "source": []
  }
 ],
 "metadata": {
  "kernelspec": {
   "display_name": "Python 3",
   "language": "python",
   "name": "python3"
  },
  "language_info": {
   "codemirror_mode": {
    "name": "ipython",
    "version": 3
   },
   "file_extension": ".py",
   "mimetype": "text/x-python",
   "name": "python",
   "nbconvert_exporter": "python",
   "pygments_lexer": "ipython3",
   "version": "3.8.8"
  }
 },
 "nbformat": 4,
 "nbformat_minor": 5
}
